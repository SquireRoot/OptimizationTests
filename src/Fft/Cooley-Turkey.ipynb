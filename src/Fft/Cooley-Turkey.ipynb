{
 "cells": [
  {
   "cell_type": "markdown",
   "id": "587c9c25-8a12-4657-b1d1-efb103aa7d74",
   "metadata": {},
   "source": [
    "# Cooley-Turkey FFT Algorithm Notes\n",
    "\n",
    "Compiled mostly from $\\rightarrow$ https://en.wikipedia.org/wiki/Cooley%E2%80%93Tukey_FFT_algorithm\n",
    "\n",
    "The Cooley-Turkey Algorithm computes the Discrete Fourier Transform (DFT) in $\\mathcal{O}(n\\log n)$ time. The DFT is defined as \n",
    "\n",
    "$$X_k = \\sum^{N-1}_{n=0} x_n e^{\\frac{-2\\pi i}{N} n k}$$\n",
    "\n",
    "This transform produces a set of components $X_k$ in frequency space using a set of components $x_n$ in real space. To derive the Cooley-Turkey algorithm, we can start by splitting the discrete Fourier transform into a sum of even and odd indices. \n",
    "\n",
    "$$X_k = \\sum_{m=0}^{N/2-1}x_{2m}e^{\\frac{-2\\pi i}{N}(2m)k} + \\sum_{m=0}^{N/2-1}x_{2m+1}e^{\\frac{-2\\pi i}{N}(2m+1)k}$$\n",
    "\n",
    "Multiplying through the parenthesis gives\n",
    "\n",
    "$$X_k = \\sum_{m=0}^{N/2-1}x_{2m}e^{\\frac{-2\\pi i}{N/2}mk} + \\sum_{m=0}^{N/2-1}x_{2m+1}e^{\\frac{-2\\pi i}{N/2}mk+\\frac{-2\\pi i}{N}k}$$\n",
    "\n",
    "Factoring out the second term we find that\n",
    "\n",
    "$$X_k = \\sum_{m=0}^{N/2-1}x_{2m}e^{\\frac{-2\\pi i}{N/2}mk} + \\sum_{m=0}^{N/2-1}x_{2m+1}e^{\\frac{-2\\pi i}{N/2}mk}e^{\\frac{-2\\pi i}{N}k}$$\n",
    "\n",
    "Since $e^{\\frac{-2\\pi i}{N}k}$ is not dependent on $m$ we can pull it out of the sum to produce the following\n",
    "\n",
    "$$X_k = \\sum_{m=0}^{N/2-1}x_{2m}e^{\\frac{-2\\pi i}{N/2}mk} + e^{\\frac{-2\\pi i}{N}k} \\sum_{m=0}^{N/2-1}x_{2m+1}e^{\\frac{-2\\pi i}{N/2}mk}$$\n",
    "\n",
    "Given our original equation for the DFT, we can see that the equation above is simply a weighted sum of the DFT'd even components $E_k$ and DFT'd odd components $O_k$ \n",
    "\n",
    "$$X_k = E_k + e^{-\\frac{2\\pi i }{N}k} O_{k}$$\n",
    "\n",
    "Where \n",
    "\n",
    "$$E_k = \\sum_{m=0}^{N/2-1}x_{2m}e^{\\frac{-2\\pi i}{N/2}mk},\\ \\ \\ O_{k} = \\sum_{m=0}^{N/2-1}x_{2m+1}e^{\\frac{-2\\pi i}{N/2}mk}$$\n",
    "\n",
    "Furthermore, we only need to calculate the values of $E_k$ and $O_k$ for $k = 0, ... N/2 -1$. These intermediate values can then be used to compute the full set $X_k$ for $k=1, ... N$. This useful property is derived by first writing out the expression for the second half of the frequency component set.\n",
    "\n",
    "$$X_{k+N/2} = \\sum_{m=0}^{N/2-1}x_{2m}e^{\\frac{-2\\pi i}{N/2}m(k+N/2)} + e^{\\frac{-2\\pi i}{N}(k+N/2)}\\sum_{m=0}^{N/2-1}x_{2m+1}e^{\\frac{-2\\pi i}{N/2}m(k+N/2)}$$\n",
    "\n",
    "Multiplying through the parentheses yields\n",
    "\n",
    "$$X_{k+N/2} = \\sum_{m=0}^{N/2-1}x_{2m}e^{\\frac{-2\\pi i}{N/2}mk-2\\pi m i} + e^{\\frac{-2\\pi i}{N}k -\\pi i}\\sum_{m=0}^{N/2-1}x_{2m+1}e^{\\frac{-2\\pi i}{N/2}mk-2\\pi m i}$$\n",
    "\n",
    "Factoring out the exponentials of sums produces\n",
    "\n",
    "$$X_{k+N/2} = \\sum_{m=0}^{N/2-1}x_{2m}e^{\\frac{-2\\pi i}{N/2}mk}e^{-2\\pi m i} + e^{\\frac{-2\\pi i}{N}k}e^{-\\pi i}\\sum_{m=0}^{N/2-1}x_{2m+1}e^{\\frac{-2\\pi i}{N/2}mk}e^{-2\\pi m i}$$\n",
    "\n",
    "Given that $e^{-2\\pi m i}=1$ for any $m$ and $e^{-\\pi i} = -1$, we can write\n",
    "\n",
    "$$X_{k+N/2} = \\sum_{m=0}^{N/2-1}x_{2m}e^{\\frac{-2\\pi i}{N/2}mk} - e^{\\frac{-2\\pi i}{N}k}\\sum_{m=0}^{N/2-1}x_{2m+1}e^{\\frac{-2\\pi i}{N/2}mk}$$\n",
    "\n",
    "Using the definition for $E_k$ and $O_k$ defined above, we can see that\n",
    "\n",
    "$$X_{k+N/2} = E_k - e^{\\frac{-2\\pi i}{N}k}O_k$$\n",
    "\n",
    "Combining this with our work from earlier, our final algorithm reduces to a recursive formula for $X_k$ where $E_k$ and $O_k$ are the DFTs of the even and odd indexed sets of $x_n$. Here we only compute values for $k=0,...N/2$ to obtain the complete transform.\n",
    "\n",
    "$$X_{k} = E_k + e^{\\frac{-2\\pi i}{N}k}O_k$$\n",
    "$$X_{k+N/2} = E_k - e^{\\frac{-2\\pi i}{N}k}O_k$$\n",
    "\n",
    "Using the original formula for the DFT, we can see that the base case of this recursive expression where $N=1$ is\n",
    "\n",
    "$$X_0 = \\sum^{1-1}_{n=0} x_n e^{\\frac{-2\\pi i}{1} n (0)}=x_0$$\n",
    "\n",
    "This algorithm can be implemented in python as follows"
   ]
  },
  {
   "cell_type": "code",
   "execution_count": 43,
   "id": "af1b5d4c-bb5a-48b5-956d-868cde88424b",
   "metadata": {},
   "outputs": [],
   "source": [
    "import numpy as np\n",
    "import cmath"
   ]
  },
  {
   "cell_type": "code",
   "execution_count": 44,
   "id": "d255968b-fd31-4d75-bf1e-a365446ec45c",
   "metadata": {},
   "outputs": [],
   "source": [
    "def CooleyTurkeyRadix2Fft(x):\n",
    "    \"\"\" Computes the unnormalized DFT of the input x using an out of place radix-2 Cooley Turkey Algorithm\"\"\"\n",
    "    N = len(x)\n",
    "    \n",
    "    # --- base case ---\n",
    "    if N == 1:\n",
    "        return x\n",
    "    \n",
    "    # check to make sure the length of the input is a power of two\n",
    "    if N%2 != 0:\n",
    "        raise Exception(\"CooleyTurkeyRadix2FFT only accepts power of two input lengths\")\n",
    "    \n",
    "    # --- recursion branches ---\n",
    "    # DFT of even components Ek\n",
    "    evenDft = CooleyTurkeyRadix2Fft(x[::2])\n",
    "    # DFT of odd components Ok\n",
    "    oddDft = CooleyTurkeyRadix2Fft(x[1::2])\n",
    "    \n",
    "    # allocate the return array\n",
    "    returnArray = 1j * np.zeros(x.shape)\n",
    "        \n",
    "    # set the values in the return array\n",
    "    for k in range(0, N//2):\n",
    "        WeightedEk = evenDft[k]\n",
    "        WeightedOk = np.exp(-2*np.pi*1j*k/N)*oddDft[k]\n",
    "        \n",
    "        returnArray[k] = WeightedEk + WeightedOk\n",
    "        returnArray[k + N//2] = WeightedEk - WeightedOk\n",
    "        \n",
    "    return returnArray"
   ]
  },
  {
   "cell_type": "markdown",
   "id": "fccc25cc-41bc-4382-8ad5-453c424e7e61",
   "metadata": {},
   "source": [
    "As a simple test case, we can use a constant value of 1 for the input. Given that we have implemented the unnormalized transformation, the output should be {N, 0, 0 ...} (For a normalized transform, the output would instead be {1, 0, 0 ...})"
   ]
  },
  {
   "cell_type": "code",
   "execution_count": 45,
   "id": "95dab902-8f14-4fa5-85f7-acbcd4b06cb4",
   "metadata": {},
   "outputs": [
    {
     "name": "stdout",
     "output_type": "stream",
     "text": [
      "[16.+0.j  0.+0.j  0.+0.j  0.+0.j  0.+0.j  0.+0.j  0.+0.j  0.+0.j  0.+0.j\n",
      "  0.+0.j  0.+0.j  0.+0.j  0.+0.j  0.+0.j  0.+0.j  0.+0.j]\n"
     ]
    }
   ],
   "source": [
    "x = np.ones(16)\n",
    "print(CooleyTurkeyRadix2Fft(x))"
   ]
  },
  {
   "cell_type": "markdown",
   "id": "26c3841a-eb94-4ed5-a4a3-bf4aa747843b",
   "metadata": {},
   "source": [
    "For a more complicated test case, we can compare the output of CooleyTurkeyRadix2Fft with the built in numpy fft function to ensure our function behaves as expected"
   ]
  },
  {
   "cell_type": "code",
   "execution_count": 46,
   "id": "990e6eac-060c-470a-8932-e4b0c5f0f62d",
   "metadata": {},
   "outputs": [
    {
     "name": "stdout",
     "output_type": "stream",
     "text": [
      "passed!\n"
     ]
    }
   ],
   "source": [
    "x = np.random.rand(2048) + 1j*np.random.rand(2048)\n",
    "\n",
    "if np.allclose(CooleyTurkeyRadix2Fft(x), np.fft.fft(x)):\n",
    "    print(\"passed!\")\n",
    "else:\n",
    "    print(\"failed!\")"
   ]
  }
 ],
 "metadata": {
  "kernelspec": {
   "display_name": "Python 3 (ipykernel)",
   "language": "python",
   "name": "python3"
  },
  "language_info": {
   "codemirror_mode": {
    "name": "ipython",
    "version": 3
   },
   "file_extension": ".py",
   "mimetype": "text/x-python",
   "name": "python",
   "nbconvert_exporter": "python",
   "pygments_lexer": "ipython3",
   "version": "3.10.6"
  }
 },
 "nbformat": 4,
 "nbformat_minor": 5
}
